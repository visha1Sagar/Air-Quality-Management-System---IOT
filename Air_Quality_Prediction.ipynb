{
  "nbformat": 4,
  "nbformat_minor": 0,
  "metadata": {
    "colab": {
      "provenance": [],
      "authorship_tag": "ABX9TyPrJndJSqc+Pjft9v1mn2kU",
      "include_colab_link": true
    },
    "kernelspec": {
      "name": "python3",
      "display_name": "Python 3"
    },
    "language_info": {
      "name": "python"
    }
  },
  "cells": [
    {
      "cell_type": "markdown",
      "metadata": {
        "id": "view-in-github",
        "colab_type": "text"
      },
      "source": [
        "<a href=\"https://colab.research.google.com/github/visha1Sagar/Air-Quality-Management-System---IOT/blob/main/Air_Quality_Prediction.ipynb\" target=\"_parent\"><img src=\"https://colab.research.google.com/assets/colab-badge.svg\" alt=\"Open In Colab\"/></a>"
      ]
    },
    {
      "cell_type": "code",
      "source": [
        "!pip install xgboost scikit-learn"
      ],
      "metadata": {
        "colab": {
          "base_uri": "https://localhost:8080/"
        },
        "id": "ZoJTjilkvVho",
        "outputId": "3e9440a2-e5c3-4be8-93f0-0792158cadbb"
      },
      "execution_count": 1,
      "outputs": [
        {
          "output_type": "stream",
          "name": "stdout",
          "text": [
            "Requirement already satisfied: xgboost in /usr/local/lib/python3.10/dist-packages (2.1.3)\n",
            "Requirement already satisfied: scikit-learn in /usr/local/lib/python3.10/dist-packages (1.5.2)\n",
            "Requirement already satisfied: numpy in /usr/local/lib/python3.10/dist-packages (from xgboost) (1.26.4)\n",
            "Requirement already satisfied: nvidia-nccl-cu12 in /usr/local/lib/python3.10/dist-packages (from xgboost) (2.23.4)\n",
            "Requirement already satisfied: scipy in /usr/local/lib/python3.10/dist-packages (from xgboost) (1.13.1)\n",
            "Requirement already satisfied: joblib>=1.2.0 in /usr/local/lib/python3.10/dist-packages (from scikit-learn) (1.4.2)\n",
            "Requirement already satisfied: threadpoolctl>=3.1.0 in /usr/local/lib/python3.10/dist-packages (from scikit-learn) (3.5.0)\n"
          ]
        }
      ]
    },
    {
      "cell_type": "code",
      "source": [
        "import xgboost as xgb\n",
        "from sklearn.model_selection import train_test_split\n",
        "from sklearn.preprocessing import StandardScaler\n",
        "import pandas as pd\n",
        "\n",
        "\n",
        "\n",
        "from sklearn.model_selection import GridSearchCV"
      ],
      "metadata": {
        "id": "u8TR5i0-vdDI"
      },
      "execution_count": 2,
      "outputs": []
    },
    {
      "cell_type": "code",
      "source": [
        "data = pd.read_csv('/content/GlobalWeatherRepository.csv')\n",
        "data  = data[['humidity','temperature_celsius','air_quality_Carbon_Monoxide','air_quality_us-epa-index' ]]\n",
        "data.dropna(inplace=True) # Drop rows with missing values"
      ],
      "metadata": {
        "id": "hChlLad9L4H2"
      },
      "execution_count": 7,
      "outputs": []
    },
    {
      "cell_type": "code",
      "source": [
        "# Calculate z-scores for outlier detection\n",
        "def remove_outliers(df, columns, threshold=3):\n",
        "    for col in columns:\n",
        "        z_scores = (df[col] - df[col].mean()) / df[col].std()\n",
        "        df = df[(z_scores.abs() < threshold)]\n",
        "    return df\n",
        "\n",
        "# Define features (X) and target (y)\n",
        "X = data[['humidity', 'temperature_celsius', 'air_quality_Carbon_Monoxide']]\n",
        "y = data['air_quality_us-epa-index']\n",
        "\n",
        "# Remove outliers from features\n",
        "X = remove_outliers(X.copy(), X.columns)\n",
        "\n",
        "# Filter y to keep only rows corresponding to the non-outlier values in X.\n",
        "y = y[y.index.isin(X.index)]"
      ],
      "metadata": {
        "id": "AMBJiXDcOvob"
      },
      "execution_count": 8,
      "outputs": []
    },
    {
      "cell_type": "code",
      "source": [
        "# Split data into training and testing sets\n",
        "X_train, X_test, y_train, y_test = train_test_split(X, y, test_size=0.2, random_state=42)"
      ],
      "metadata": {
        "id": "2_UXBhx3OyQN"
      },
      "execution_count": 9,
      "outputs": []
    },
    {
      "cell_type": "code",
      "source": [
        "# Define the parameter grid for XGBoost\n",
        "param_grid = {\n",
        "    'max_depth': [3, 5, 7],\n",
        "    'learning_rate': [0.01, 0.1, 0.3],\n",
        "    'n_estimators': [50, 100, 200],\n",
        "    'subsample': [0.8, 1.0],  # Example subsample values\n",
        "    'colsample_bytree': [0.8, 1.0]  # Example colsample_bytree values\n",
        "}\n",
        "\n",
        "# Initialize XGBoost model\n",
        "xgb_model = xgb.XGBRegressor(objective='reg:squarederror')\n",
        "\n",
        "# Perform Grid Search\n",
        "grid_search = GridSearchCV(estimator=xgb_model, param_grid=param_grid, cv=3, scoring='neg_mean_squared_error', n_jobs=-1) #n_jobs=-1 uses all available cores\n",
        "grid_search.fit(X_train, y_train)\n"
      ],
      "metadata": {
        "id": "rD247lIVx5nE"
      },
      "execution_count": null,
      "outputs": []
    },
    {
      "cell_type": "code",
      "source": [
        "\n",
        "# Print the best parameters and score\n",
        "print(\"Best parameters:\", grid_search.best_params_)\n",
        "print(\"Best score:\", grid_search.best_score_)\n",
        "\n"
      ],
      "metadata": {
        "colab": {
          "base_uri": "https://localhost:8080/"
        },
        "id": "SeA8tJkvxYZ8",
        "outputId": "08c1ace7-1a03-4bdf-b6be-39ed164e108e"
      },
      "execution_count": 13,
      "outputs": [
        {
          "output_type": "stream",
          "name": "stdout",
          "text": [
            "Best parameters: {'colsample_bytree': 1.0, 'learning_rate': 0.1, 'max_depth': 5, 'n_estimators': 200, 'subsample': 0.8}\n",
            "Best score: -0.37032918355613337\n"
          ]
        }
      ]
    },
    {
      "cell_type": "code",
      "source": [
        "# Evaluate the best model on the test set\n",
        "best_xgb_model = grid_search.best_estimator_\n"
      ],
      "metadata": {
        "id": "aIAT1kApxapT"
      },
      "execution_count": 15,
      "outputs": []
    },
    {
      "cell_type": "code",
      "source": [
        "y_pred_train = best_xgb_model.predict(X_train)\n",
        "y_pred_test = best_xgb_model.predict(X_test)"
      ],
      "metadata": {
        "id": "zLBqmAVryV3i"
      },
      "execution_count": 16,
      "outputs": []
    },
    {
      "cell_type": "code",
      "source": [
        "\n",
        "from sklearn.metrics import mean_squared_error, r2_score\n"
      ],
      "metadata": {
        "id": "t5kwjx_2yR9t"
      },
      "execution_count": 17,
      "outputs": []
    },
    {
      "cell_type": "code",
      "source": [
        "mse_test = mean_squared_error(y_test,y_pred_test)\n",
        "mse_train = mean_squared_error(y_train,y_pred_train)\n",
        "\n",
        "r2_test = r2_score(y_test, y_pred_test)\n",
        "r2_train = r2_score(y_train, y_pred_train)\n"
      ],
      "metadata": {
        "id": "matihpj8Mk8T"
      },
      "execution_count": 18,
      "outputs": []
    },
    {
      "cell_type": "code",
      "source": [
        "print(\"Training Error:\")\n",
        "print(f\"Mean Squared Error: {mse_train}\")\n",
        "print(f\"R-squared: {r2_train}\")\n",
        "\n",
        "print(\"\\nTesting Error:\")\n",
        "print(f\"Mean Squared Error: {mse_test}\")\n",
        "print(f\"R-squared: {r2_test}\")"
      ],
      "metadata": {
        "colab": {
          "base_uri": "https://localhost:8080/"
        },
        "id": "TyqOEbl3yq3h",
        "outputId": "716af3ef-de56-43da-bb41-73326f72e21b"
      },
      "execution_count": 19,
      "outputs": [
        {
          "output_type": "stream",
          "name": "stdout",
          "text": [
            "Training Error:\n",
            "Mean Squared Error: 0.309683520152341\n",
            "R-squared: 0.5316953659057617\n",
            "\n",
            "Testing Error:\n",
            "Mean Squared Error: 0.36372936096360287\n",
            "R-squared: 0.4516555666923523\n"
          ]
        }
      ]
    },
    {
      "cell_type": "code",
      "source": [],
      "metadata": {
        "id": "stN4CVqTy47j"
      },
      "execution_count": null,
      "outputs": []
    }
  ]
}